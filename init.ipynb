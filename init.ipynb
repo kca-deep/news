{
 "cells": [
  {
   "cell_type": "markdown",
   "metadata": {},
   "source": [
    "신규코드 생성"
   ]
  }
 ],
 "metadata": {
  "language_info": {
   "name": "python"
  }
 },
 "nbformat": 4,
 "nbformat_minor": 2
}
